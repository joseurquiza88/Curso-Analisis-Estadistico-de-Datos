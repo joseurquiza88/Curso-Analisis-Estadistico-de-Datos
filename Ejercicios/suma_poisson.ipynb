{
 "cells": [
  {
   "cell_type": "markdown",
   "id": "af9b37c4-ae8d-46a6-9474-a1bcfc58b7b9",
   "metadata": {},
   "source": [
    "## 5.\n",
    "\n",
    "Simular 10 variables discretas $X_i$ que siguen una distribución de Poisson con\n",
    "parámetro $\\mu = 1.7$ y calcular su suma $Y =\n",
    "\\Sigma^{10}_{i=1} X_i $. Repetir este procedimiento 1000 veces para contruir un histograma de frecuencia de la variable $Y$ . Comparar el histograma con una distribución Gaussiana con parámetros adecuados. Graficar el histograma y la distribución Gaussiana. Nota: Calcular los parámetros de la Gaussiana a partir de la media y varianza de las $X_i$.\n"
   ]
  },
  {
   "cell_type": "code",
   "execution_count": 1,
   "id": "bd5e9e03-df78-4a41-957b-d431a723f38d",
   "metadata": {},
   "outputs": [],
   "source": [
    "#librerías\n",
    "import numpy as np\n",
    "from scipy.stats import poisson, norm\n",
    "from matplotlib import pyplot as plt "
   ]
  },
  {
   "cell_type": "code",
   "execution_count": 2,
   "id": "34b87a49-fc4a-4220-8fcd-42447202afa1",
   "metadata": {},
   "outputs": [],
   "source": [
    "#parametros\n",
    "\n",
    "mu = 1.7\n",
    "n_var = 10\n",
    "n_sim = 1000"
   ]
  },
  {
   "cell_type": "code",
   "execution_count": 5,
   "id": "e7e8c5da-f6ee-4248-ac6b-5c77632ee9a1",
   "metadata": {},
   "outputs": [
    {
     "data": {
      "text/plain": [
       "1000"
      ]
     },
     "execution_count": 5,
     "metadata": {},
     "output_type": "execute_result"
    }
   ],
   "source": [
    "# genero variables de poisson\n",
    "\n",
    "x = poisson.rvs(mu, size = [n_var, n_sim])\n",
    "y = np.sum(x, axis = 0)"
   ]
  },
  {
   "cell_type": "code",
   "execution_count": 8,
   "id": "326a8d29-d024-45ae-8167-71c9e281ddbc",
   "metadata": {},
   "outputs": [],
   "source": [
    "# momentos de y\n",
    "mu_y = np.mean(y)\n",
    "std_y = np.std(y)"
   ]
  },
  {
   "cell_type": "code",
   "execution_count": 10,
   "id": "13e12367-d506-4e3f-9bb5-32d4860cdaa2",
   "metadata": {},
   "outputs": [],
   "source": [
    "#distribución Gaussiana\n",
    "\n",
    "x_min, x_max = (mu_y - 3 * std_y, mu_y + 3 * std_y)\n",
    "x_eval = np.linspace(x_min, x_max, 100)\n",
    "\n",
    "normal = norm.pdf(x_eval, loc = 17, scale = np.sqrt(17))\n"
   ]
  },
  {
   "cell_type": "code",
   "execution_count": 11,
   "id": "7415e4a2-7c95-4041-bf82-4dc81d41b6d8",
   "metadata": {},
   "outputs": [],
   "source": [
    "n, bin_edges = np.histogram(y, 10)\n",
    "bin_width = bin_edges[1] - bin_edges[0]\n",
    "scale_factor = bin_width*n_sim"
   ]
  },
  {
   "cell_type": "code",
   "execution_count": 12,
   "id": "5e33eeed-6249-4a9a-9a2e-af2f4e3c9a69",
   "metadata": {},
   "outputs": [
    {
     "data": {
      "image/png": "[encoded data removed]",
      "text/plain": [
       "<Figure size 640x480 with 1 Axes>"
      ]
     },
     "metadata": {},
     "output_type": "display_data"
    }
   ],
   "source": [
    "#plots\n",
    "plt.hist(y, 10, label = \"Y\")\n",
    "plt.plot(x_eval, normal*scale_factor, label = \"Gaussiana\")\n",
    "plt.xlabel(\"Y\")\n",
    "plt.ylabel(\"Frequency\")\n",
    "plt.legend()\n",
    "plt.show()"
   ]
  },
  {
   "cell_type": "code",
   "execution_count": null,
   "id": "8051fac4-2f35-45ef-a5e7-e27666c1da23",
   "metadata": {},
   "outputs": [],
   "source": [
    "#parametros\n",
    "\n",
    "mu = 1.7\n",
    "n_var = 10\n",
    "n_sim = 1000\n",
    "# genero variables de poisson\n",
    "\n",
    "x = poisson.rvs(mu, size = [n_var, n_sim])\n",
    "y = np.sum(x, axis = 0)\n",
    "\n",
    "# momentos de y\n",
    "mu_y = np.mean(y)\n",
    "std_y = np.std(y)\n",
    "#distribución Gaussiana\n",
    "\n",
    "x_min, x_max = (mu_y - 3 * std_y, mu_y + 3 * std_y)\n",
    "x_eval = np.linspace(x_min, x_max, 100)\n",
    "\n",
    "normal = norm.pdf(x_eval, loc = 17, scale = np.sqrt(17))\n",
    "\n",
    "n, bin_edges = np.histogram(y, 10)\n",
    "bin_width = bin_edges[1] - bin_edges[0]\n",
    "scale_factor = bin_width*n_sim\n",
    "\n",
    "#plots\n",
    "plt.hist(y, 10, label = \"Y\")\n",
    "plt.plot(x_eval, normal*scale_factor, label = \"Gaussiana\")\n",
    "plt.xlabel(\"Y\")\n",
    "plt.ylabel(\"Frequency\")\n",
    "plt.legend()\n",
    "plt.show()\n",
    "######################################################################################\n",
    "############################################################################################\n",
    "\n",
    "Mostramos que la suma de dos variables chi-cuadrado con \n",
    " y \n",
    " grados de libertad es una variable chi-cuadrado con \n",
    " grados de libertad\n",
    "\n",
    "import numpy as np\n",
    "rng = np.random.default_rng(seed=6870)\n",
    "Grados de libertad de la primera variable chi-cuadrado\n",
    "\n",
    "ndof1 = 5\n",
    "Grados de libertad de la segunda variable chi-cuadrado\n",
    "\n",
    "ndof2 = 7\n",
    "Número de simulaciones\n",
    "\n",
    "nsimulations = 100000\n",
    "Simulamos los datos\n",
    "\n",
    "from scipy.stats import chi2\n",
    "X = chi2.rvs(df=ndof1, size=nsimulations, random_state=rng)\n",
    "Y = chi2.rvs(df=ndof2, size=nsimulations, random_state=rng)\n",
    "Z = X + Y\n",
    "Histograma de densidad\n",
    "\n",
    "import danatools\n",
    "xmin = 0\n",
    "xmax = max(Z)\n",
    "density, bin_centres = danatools.histogram(Z, bins=50, range=[xmin, xmax], density=True)\n",
    "PDF de la suma\n",
    "\n",
    "ndof = ndof1 + ndof2\n",
    "x_pdf = np.linspace(start=xmin, stop=xmax, num=100)\n",
    "y_pdf = chi2.pdf(x_pdf, df=ndof) \n",
    "Ploteo los datos y la PDF\n",
    "\n",
    "import matplotlib.pyplot as plt\n",
    "fig, ax = plt.subplots()\n",
    "ax.set_xlabel(\"$Z$\")\n",
    "ax.set_ylabel(\"Probability density\")\n",
    "ax.plot(bin_centres, density, ls='None', marker='o', label=\"Data\")\n",
    "ax.plot(x_pdf, y_pdf, ls='--', label=\"PDF\")\n",
    "ax.set_ylim(bottom=0)\n",
    "ax.legend()"
   ]
  }
 ],
 "metadata": {
  "kernelspec": {
   "display_name": "Python 3",
   "language": "python",
   "name": "python3"
  },
  "language_info": {
   "codemirror_mode": {
    "name": "ipython",
    "version": 3
   },
   "file_extension": ".py",
   "mimetype": "text/x-python",
   "name": "python",
   "nbconvert_exporter": "python",
   "pygments_lexer": "ipython3",
   "version": "3.8.8"
  }
 },
 "nbformat": 4,
 "nbformat_minor": 5
}
