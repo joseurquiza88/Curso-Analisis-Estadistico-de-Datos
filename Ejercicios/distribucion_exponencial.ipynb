{
 "cells": [
  {
   "cell_type": "markdown",
   "id": "7e9b2710-016c-4961-89f2-23b23911d478",
   "metadata": {},
   "source": [
    "# Decaimiento radioactivo"
   ]
  },
  {
   "cell_type": "markdown",
   "id": "6d8b5d1f-4a55-47f0-bb1c-2b2422f35095",
   "metadata": {},
   "source": [
    "Muestra que un proceso sin memoria como un decaimiento de un radioisótopo origina una distribución exponencial.\n",
    "La variable aleatoria es el tiempo de vida de un radioisótopo."
   ]
  },
  {
   "cell_type": "code",
   "execution_count": 1,
   "id": "dc891601-a79b-4e29-a8dc-a597b6c541c5",
   "metadata": {},
   "outputs": [],
   "source": [
    "import numpy as np\n",
    "rng = np.random.default_rng(seed=6870)"
   ]
  },
  {
   "cell_type": "markdown",
   "id": "2decf2fd-6b66-4fb4-9e75-9c3166da1545",
   "metadata": {},
   "source": [
    "Comenzamos con un número inicial de partículas: "
   ]
  },
  {
   "cell_type": "code",
   "execution_count": 2,
   "id": "486dd5b4-de32-41c2-846d-2cece36fdcc2",
   "metadata": {},
   "outputs": [],
   "source": [
    "nparticles = 100000"
   ]
  },
  {
   "cell_type": "markdown",
   "id": "94f607c2-e07f-470d-91f8-8eb819770df9",
   "metadata": {},
   "source": [
    "Tiempo de vida medio del radioisótopo:"
   ]
  },
  {
   "cell_type": "code",
   "execution_count": 3,
   "id": "e2370aab-9fc3-4b2b-8791-fe20f7350bd0",
   "metadata": {},
   "outputs": [],
   "source": [
    "tau = 1"
   ]
  },
  {
   "cell_type": "markdown",
   "id": "77dce48e-aab6-43d7-8f98-5b4f8d3229ee",
   "metadata": {},
   "source": [
    "Intervalo de tiempo para los pasos discretos de la simulación "
   ]
  },
  {
   "cell_type": "code",
   "execution_count": 4,
   "id": "8af0294e-0013-4e67-a67c-2220c32a8056",
   "metadata": {},
   "outputs": [],
   "source": [
    "delta_time = tau / 100"
   ]
  },
  {
   "cell_type": "markdown",
   "id": "687b1b27-a24a-4fae-ad5a-c1ab3fba9e28",
   "metadata": {},
   "source": [
    "Probabilidad de decaimiento del radioisótopo en un intervalo temporal:"
   ]
  },
  {
   "cell_type": "code",
   "execution_count": 5,
   "id": "6874d4d4-1eba-4d24-b5db-f6020b37988a",
   "metadata": {},
   "outputs": [
    {
     "data": {
      "text/plain": [
       "0.01"
      ]
     },
     "execution_count": 5,
     "metadata": {},
     "output_type": "execute_result"
    }
   ],
   "source": [
    "decay_probability_step = delta_time / tau\n",
    "decay_probability_step"
   ]
  },
  {
   "cell_type": "markdown",
   "id": "986abc42-88a5-4ffa-9f2f-92a1213c9cb1",
   "metadata": {},
   "source": [
    "El intervalo debe ser mucho menor que el tiempo de vida media de manera que la probabilidad de decaimiento en un intervalo sea pequeña. De esta forma el proceso discreto aproxima bien al caso continuo."
   ]
  },
  {
   "cell_type": "markdown",
   "id": "e595efb2-79f1-4945-9cb8-bff328a8e1d1",
   "metadata": {},
   "source": [
    "## Simulación del proceso radioactivo"
   ]
  },
  {
   "cell_type": "markdown",
   "id": "489a2f55-033b-47e2-9113-61f70d90b631",
   "metadata": {},
   "source": [
    "La simulación itera sobre pasos temporales. Empieza por el número de partículas iniciales. En cada paso calcula el número de partículas que decaen. Por otro lado lleva la cuenta de las partículas sobrevivientes. Es interrumpe la simulación cuando quedan pocas partículas sobrevivientes con respecto a las iniciales.   "
   ]
  },
  {
   "cell_type": "code",
   "execution_count": 6,
   "id": "38f888af-898d-46f9-a8bc-72b60174f160",
   "metadata": {},
   "outputs": [],
   "source": [
    "from scipy.stats import uniform\n",
    "# Initialize the number of survivors with the initial number of particles \n",
    "nsurvivors = nparticles\n",
    "# List of decaying particles in each step\n",
    "ndecays_list = []\n",
    "# Number of survivors to stop the simulation\n",
    "nsurvivors_stop = nparticles / 1000\n",
    "while True:\n",
    "    # Generate a uniform variable between 0 and 1 for all survivors of the previous step    \n",
    "    decay_data = uniform.rvs(size = nsurvivors, random_state=rng)\n",
    "    # A particle decays if its decay data is less than the decay probability of a step \n",
    "    decay_particles = decay_data < decay_probability_step\n",
    "    # Count the number of decays in this step\n",
    "    ndecays_step = decay_particles.sum()\n",
    "    # Add the number of decays in this step to the list of decays\n",
    "    ndecays_list.append(ndecays_step)\n",
    "    # Calculate the number of survivors after the current step\n",
    "    nsurvivors -= ndecays_step\n",
    "    # Break if there are fewer survivors than the threshold\n",
    "    if nsurvivors < nsurvivors_stop:\n",
    "        break"
   ]
  },
  {
   "cell_type": "markdown",
   "id": "7cb9298f-0ed5-44d9-9c71-f43c67043068",
   "metadata": {},
   "source": [
    "Histograma de densidad del tiempo de vida calculado a partir de la simulación Monte Carlo "
   ]
  },
  {
   "cell_type": "code",
   "execution_count": 7,
   "id": "8538e79c-cb14-4eb7-b3db-f4614a0c4c25",
   "metadata": {},
   "outputs": [],
   "source": [
    "# Convert list to numpy.array to calculate stuff afterward \n",
    "ndecays_array = np.array(ndecays_list)\n",
    "scale_factor = nparticles * delta_time\n",
    "density = ndecays_array / scale_factor"
   ]
  },
  {
   "cell_type": "code",
   "execution_count": 8,
   "id": "c3eb695a-7c7d-4ca6-b4a3-3ee4e466cbf7",
   "metadata": {},
   "outputs": [
    {
     "data": {
      "text/plain": [
       "array([ 988, 1027,  987,  982,  984,  958,  971,  872,  952,  956,  911,\n",
       "        861,  917,  855,  860,  896,  836,  874,  854,  796,  823,  820,\n",
       "        800,  812,  769,  750,  759,  738,  763,  716,  804,  745,  735,\n",
       "        707,  750,  745,  651,  717,  683,  684,  630,  661,  632,  609,\n",
       "        648,  647,  650,  627,  600,  612,  618,  598,  556,  589,  589,\n",
       "        594,  551,  545,  561,  535,  596,  507,  559,  530,  516,  499,\n",
       "        532,  537,  477,  476,  496,  469,  499,  474,  471,  499,  434,\n",
       "        494,  453,  437,  440,  420,  443,  443,  407,  458,  397,  429,\n",
       "        410,  428,  379,  414,  381,  389,  373,  414,  372,  386,  372,\n",
       "        323,  346,  384,  360,  374,  364,  352,  369,  327,  331,  331,\n",
       "        342,  365,  313,  346,  362,  290,  311,  270,  289,  315,  292,\n",
       "        318,  258,  256,  264,  283,  322,  268,  277,  249,  252,  266,\n",
       "        273,  264,  262,  289,  261,  233,  245,  259,  249,  234,  265,\n",
       "        239,  238,  252,  239,  201,  219,  211,  189,  219,  244,  206,\n",
       "        220,  197,  199,  196,  219,  204,  197,  218,  189,  220,  173,\n",
       "        215,  194,  173,  164,  173,  159,  187,  181,  168,  157,  189,\n",
       "        157,  164,  156,  144,  124,  157,  149,  169,  152,  148,  167,\n",
       "        157,  149,  142,  151,  142,  130,  160,  144,  145,  140,  111,\n",
       "        151,  140,  142,  126,  124,  151,  125,  145,  129,  134,  127,\n",
       "        120,  110,  129,  104,  123,  102,  115,  104,  114,  104,  128,\n",
       "         91,   93,  134,  100,  126,   88,  119,  101,  100,   96,  109,\n",
       "        106,   99,   89,   90,  104,  100,   66,   97,   93,   89,   76,\n",
       "         86,   79,   95,   84,   79,   88,   85,   75,   89,   75,   86,\n",
       "         90,   74,   76,   81,   88,   76,   84,   66,   78,   80,   81,\n",
       "         66,   81,   77,   61,   65,   72,   72,   76,   68,   68,   63,\n",
       "         65,   73,   56,   60,   45,   68,   62,   56,   86,   68,   48,\n",
       "         59,   50,   52,   56,   64,   63,   56,   50,   50,   55,   43,\n",
       "         55,   44,   59,   58,   42,   48,   50,   51,   49,   39,   46,\n",
       "         37,   49,   37,   51,   57,   44,   37,   29,   44,   48,   53,\n",
       "         41,   42,   23,   39,   25,   43,   37,   46,   41,   26,   27,\n",
       "         39,   38,   42,   35,   36,   29,   38,   30,   32,   31,   37,\n",
       "         34,   28,   32,   39,   24,   37,   31,   34,   37,   49,   30,\n",
       "         14,   22,   25,   18,   25,   34,   22,   29,   39,   27,   28,\n",
       "         31,   27,   28,   24,   31,   26,   20,   25,   23,   36,   16,\n",
       "         22,   23,   21,   25,   14,    7,   17,   20,   21,   23,   25,\n",
       "         15,   22,   21,   15,   24,   20,   15,   15,   19,   21,   18,\n",
       "         28,   20,   25,   20,   16,   17,   14,   15,   23,   18,   15,\n",
       "         18,   13,   16,   24,   21,   21,   21,   14,   21,   18,   13,\n",
       "          8,   16,   13,   13,   19,   19,    7,   17,   12,   11,   13,\n",
       "         22,    9,   14,   14,   14,   11,   13,    9,   13,    8,    8,\n",
       "         16,    5,    7,   11,    8,   14,   12,   15,    7,   14,   13,\n",
       "          6,   10,    9,    9,   14,    3,   10,   10,    8,    9,   11,\n",
       "          8,    8,   11,   11,    9,   10,   14,    6,    8,   10,    6,\n",
       "         13,    6,    7,    8,   13,   11,    4,    4,   10,    9,    7,\n",
       "          9,   12,   10,    9,    6,    8,    8,    7,   10,    9,    7,\n",
       "          5,   11,    3,    8,    4,    6,    6,    9,   11,    8,    7,\n",
       "          6,    7,    4,    3,    7,    4,    6,    5,    1,    5,    6,\n",
       "          6,    7,   11,    8,    7,    6,    4,    4,    7,    1,    7,\n",
       "          5,    1,    3,    4,    4,    5,    4,    2,    2,    3,    2,\n",
       "          3,    5,    7,    5,    4,    3,    5,    4,    3,    2,    6,\n",
       "          3,    5,    2,    3,    5,    5,    4,    6,    6,    3,    4,\n",
       "          3,    3,    3,    1,    4,    1,    2,    6,    1,    2,    1,\n",
       "          2,    1,    3,    4,    5,    4,    6,    1,    1,    3,    2,\n",
       "          7,    4,    1,    6,    2,    0,    2,    0,    3,    4,    0,\n",
       "          1,    0,    4,    3,    4,    2,    1,    6,    5,    1,    6,\n",
       "          2,    3,    3,    4,    1,    3,    3,    3,    2,    1,    3,\n",
       "          3,    2,    2,    4,    4,    2,    2,    0,    1,    1,    3,\n",
       "          2,   10,    0,    2,    3,    4,    1,    5,    1,    0,    0,\n",
       "          1,    1,    3,    3,    1,    1,    6,    1,    2,    0,    3,\n",
       "          3,    1,    1,    1,    1,    1,    4,    1,    1,    2,    4,\n",
       "          0,    3,    1,    0,    1,    3,    2,    1,    0,    0,    0,\n",
       "          3])"
      ]
     },
     "execution_count": 8,
     "metadata": {},
     "output_type": "execute_result"
    }
   ],
   "source": [
    "ndecays_array"
   ]
  },
  {
   "cell_type": "code",
   "execution_count": 9,
   "id": "a9aae6b7-e597-4013-ac52-a9d9de627d6b",
   "metadata": {},
   "outputs": [
    {
     "data": {
      "text/plain": [
       "1000.0"
      ]
     },
     "execution_count": 9,
     "metadata": {},
     "output_type": "execute_result"
    }
   ],
   "source": [
    "scale_factor"
   ]
  },
  {
   "cell_type": "code",
   "execution_count": 10,
   "id": "d1f1910f-9d61-40e2-85b7-92022ff673fb",
   "metadata": {},
   "outputs": [
    {
     "data": {
      "text/plain": [
       "array([9.880e-01, 1.027e+00, 9.870e-01, 9.820e-01, 9.840e-01, 9.580e-01,\n",
       "       9.710e-01, 8.720e-01, 9.520e-01, 9.560e-01, 9.110e-01, 8.610e-01,\n",
       "       9.170e-01, 8.550e-01, 8.600e-01, 8.960e-01, 8.360e-01, 8.740e-01,\n",
       "       8.540e-01, 7.960e-01, 8.230e-01, 8.200e-01, 8.000e-01, 8.120e-01,\n",
       "       7.690e-01, 7.500e-01, 7.590e-01, 7.380e-01, 7.630e-01, 7.160e-01,\n",
       "       8.040e-01, 7.450e-01, 7.350e-01, 7.070e-01, 7.500e-01, 7.450e-01,\n",
       "       6.510e-01, 7.170e-01, 6.830e-01, 6.840e-01, 6.300e-01, 6.610e-01,\n",
       "       6.320e-01, 6.090e-01, 6.480e-01, 6.470e-01, 6.500e-01, 6.270e-01,\n",
       "       6.000e-01, 6.120e-01, 6.180e-01, 5.980e-01, 5.560e-01, 5.890e-01,\n",
       "       5.890e-01, 5.940e-01, 5.510e-01, 5.450e-01, 5.610e-01, 5.350e-01,\n",
       "       5.960e-01, 5.070e-01, 5.590e-01, 5.300e-01, 5.160e-01, 4.990e-01,\n",
       "       5.320e-01, 5.370e-01, 4.770e-01, 4.760e-01, 4.960e-01, 4.690e-01,\n",
       "       4.990e-01, 4.740e-01, 4.710e-01, 4.990e-01, 4.340e-01, 4.940e-01,\n",
       "       4.530e-01, 4.370e-01, 4.400e-01, 4.200e-01, 4.430e-01, 4.430e-01,\n",
       "       4.070e-01, 4.580e-01, 3.970e-01, 4.290e-01, 4.100e-01, 4.280e-01,\n",
       "       3.790e-01, 4.140e-01, 3.810e-01, 3.890e-01, 3.730e-01, 4.140e-01,\n",
       "       3.720e-01, 3.860e-01, 3.720e-01, 3.230e-01, 3.460e-01, 3.840e-01,\n",
       "       3.600e-01, 3.740e-01, 3.640e-01, 3.520e-01, 3.690e-01, 3.270e-01,\n",
       "       3.310e-01, 3.310e-01, 3.420e-01, 3.650e-01, 3.130e-01, 3.460e-01,\n",
       "       3.620e-01, 2.900e-01, 3.110e-01, 2.700e-01, 2.890e-01, 3.150e-01,\n",
       "       2.920e-01, 3.180e-01, 2.580e-01, 2.560e-01, 2.640e-01, 2.830e-01,\n",
       "       3.220e-01, 2.680e-01, 2.770e-01, 2.490e-01, 2.520e-01, 2.660e-01,\n",
       "       2.730e-01, 2.640e-01, 2.620e-01, 2.890e-01, 2.610e-01, 2.330e-01,\n",
       "       2.450e-01, 2.590e-01, 2.490e-01, 2.340e-01, 2.650e-01, 2.390e-01,\n",
       "       2.380e-01, 2.520e-01, 2.390e-01, 2.010e-01, 2.190e-01, 2.110e-01,\n",
       "       1.890e-01, 2.190e-01, 2.440e-01, 2.060e-01, 2.200e-01, 1.970e-01,\n",
       "       1.990e-01, 1.960e-01, 2.190e-01, 2.040e-01, 1.970e-01, 2.180e-01,\n",
       "       1.890e-01, 2.200e-01, 1.730e-01, 2.150e-01, 1.940e-01, 1.730e-01,\n",
       "       1.640e-01, 1.730e-01, 1.590e-01, 1.870e-01, 1.810e-01, 1.680e-01,\n",
       "       1.570e-01, 1.890e-01, 1.570e-01, 1.640e-01, 1.560e-01, 1.440e-01,\n",
       "       1.240e-01, 1.570e-01, 1.490e-01, 1.690e-01, 1.520e-01, 1.480e-01,\n",
       "       1.670e-01, 1.570e-01, 1.490e-01, 1.420e-01, 1.510e-01, 1.420e-01,\n",
       "       1.300e-01, 1.600e-01, 1.440e-01, 1.450e-01, 1.400e-01, 1.110e-01,\n",
       "       1.510e-01, 1.400e-01, 1.420e-01, 1.260e-01, 1.240e-01, 1.510e-01,\n",
       "       1.250e-01, 1.450e-01, 1.290e-01, 1.340e-01, 1.270e-01, 1.200e-01,\n",
       "       1.100e-01, 1.290e-01, 1.040e-01, 1.230e-01, 1.020e-01, 1.150e-01,\n",
       "       1.040e-01, 1.140e-01, 1.040e-01, 1.280e-01, 9.100e-02, 9.300e-02,\n",
       "       1.340e-01, 1.000e-01, 1.260e-01, 8.800e-02, 1.190e-01, 1.010e-01,\n",
       "       1.000e-01, 9.600e-02, 1.090e-01, 1.060e-01, 9.900e-02, 8.900e-02,\n",
       "       9.000e-02, 1.040e-01, 1.000e-01, 6.600e-02, 9.700e-02, 9.300e-02,\n",
       "       8.900e-02, 7.600e-02, 8.600e-02, 7.900e-02, 9.500e-02, 8.400e-02,\n",
       "       7.900e-02, 8.800e-02, 8.500e-02, 7.500e-02, 8.900e-02, 7.500e-02,\n",
       "       8.600e-02, 9.000e-02, 7.400e-02, 7.600e-02, 8.100e-02, 8.800e-02,\n",
       "       7.600e-02, 8.400e-02, 6.600e-02, 7.800e-02, 8.000e-02, 8.100e-02,\n",
       "       6.600e-02, 8.100e-02, 7.700e-02, 6.100e-02, 6.500e-02, 7.200e-02,\n",
       "       7.200e-02, 7.600e-02, 6.800e-02, 6.800e-02, 6.300e-02, 6.500e-02,\n",
       "       7.300e-02, 5.600e-02, 6.000e-02, 4.500e-02, 6.800e-02, 6.200e-02,\n",
       "       5.600e-02, 8.600e-02, 6.800e-02, 4.800e-02, 5.900e-02, 5.000e-02,\n",
       "       5.200e-02, 5.600e-02, 6.400e-02, 6.300e-02, 5.600e-02, 5.000e-02,\n",
       "       5.000e-02, 5.500e-02, 4.300e-02, 5.500e-02, 4.400e-02, 5.900e-02,\n",
       "       5.800e-02, 4.200e-02, 4.800e-02, 5.000e-02, 5.100e-02, 4.900e-02,\n",
       "       3.900e-02, 4.600e-02, 3.700e-02, 4.900e-02, 3.700e-02, 5.100e-02,\n",
       "       5.700e-02, 4.400e-02, 3.700e-02, 2.900e-02, 4.400e-02, 4.800e-02,\n",
       "       5.300e-02, 4.100e-02, 4.200e-02, 2.300e-02, 3.900e-02, 2.500e-02,\n",
       "       4.300e-02, 3.700e-02, 4.600e-02, 4.100e-02, 2.600e-02, 2.700e-02,\n",
       "       3.900e-02, 3.800e-02, 4.200e-02, 3.500e-02, 3.600e-02, 2.900e-02,\n",
       "       3.800e-02, 3.000e-02, 3.200e-02, 3.100e-02, 3.700e-02, 3.400e-02,\n",
       "       2.800e-02, 3.200e-02, 3.900e-02, 2.400e-02, 3.700e-02, 3.100e-02,\n",
       "       3.400e-02, 3.700e-02, 4.900e-02, 3.000e-02, 1.400e-02, 2.200e-02,\n",
       "       2.500e-02, 1.800e-02, 2.500e-02, 3.400e-02, 2.200e-02, 2.900e-02,\n",
       "       3.900e-02, 2.700e-02, 2.800e-02, 3.100e-02, 2.700e-02, 2.800e-02,\n",
       "       2.400e-02, 3.100e-02, 2.600e-02, 2.000e-02, 2.500e-02, 2.300e-02,\n",
       "       3.600e-02, 1.600e-02, 2.200e-02, 2.300e-02, 2.100e-02, 2.500e-02,\n",
       "       1.400e-02, 7.000e-03, 1.700e-02, 2.000e-02, 2.100e-02, 2.300e-02,\n",
       "       2.500e-02, 1.500e-02, 2.200e-02, 2.100e-02, 1.500e-02, 2.400e-02,\n",
       "       2.000e-02, 1.500e-02, 1.500e-02, 1.900e-02, 2.100e-02, 1.800e-02,\n",
       "       2.800e-02, 2.000e-02, 2.500e-02, 2.000e-02, 1.600e-02, 1.700e-02,\n",
       "       1.400e-02, 1.500e-02, 2.300e-02, 1.800e-02, 1.500e-02, 1.800e-02,\n",
       "       1.300e-02, 1.600e-02, 2.400e-02, 2.100e-02, 2.100e-02, 2.100e-02,\n",
       "       1.400e-02, 2.100e-02, 1.800e-02, 1.300e-02, 8.000e-03, 1.600e-02,\n",
       "       1.300e-02, 1.300e-02, 1.900e-02, 1.900e-02, 7.000e-03, 1.700e-02,\n",
       "       1.200e-02, 1.100e-02, 1.300e-02, 2.200e-02, 9.000e-03, 1.400e-02,\n",
       "       1.400e-02, 1.400e-02, 1.100e-02, 1.300e-02, 9.000e-03, 1.300e-02,\n",
       "       8.000e-03, 8.000e-03, 1.600e-02, 5.000e-03, 7.000e-03, 1.100e-02,\n",
       "       8.000e-03, 1.400e-02, 1.200e-02, 1.500e-02, 7.000e-03, 1.400e-02,\n",
       "       1.300e-02, 6.000e-03, 1.000e-02, 9.000e-03, 9.000e-03, 1.400e-02,\n",
       "       3.000e-03, 1.000e-02, 1.000e-02, 8.000e-03, 9.000e-03, 1.100e-02,\n",
       "       8.000e-03, 8.000e-03, 1.100e-02, 1.100e-02, 9.000e-03, 1.000e-02,\n",
       "       1.400e-02, 6.000e-03, 8.000e-03, 1.000e-02, 6.000e-03, 1.300e-02,\n",
       "       6.000e-03, 7.000e-03, 8.000e-03, 1.300e-02, 1.100e-02, 4.000e-03,\n",
       "       4.000e-03, 1.000e-02, 9.000e-03, 7.000e-03, 9.000e-03, 1.200e-02,\n",
       "       1.000e-02, 9.000e-03, 6.000e-03, 8.000e-03, 8.000e-03, 7.000e-03,\n",
       "       1.000e-02, 9.000e-03, 7.000e-03, 5.000e-03, 1.100e-02, 3.000e-03,\n",
       "       8.000e-03, 4.000e-03, 6.000e-03, 6.000e-03, 9.000e-03, 1.100e-02,\n",
       "       8.000e-03, 7.000e-03, 6.000e-03, 7.000e-03, 4.000e-03, 3.000e-03,\n",
       "       7.000e-03, 4.000e-03, 6.000e-03, 5.000e-03, 1.000e-03, 5.000e-03,\n",
       "       6.000e-03, 6.000e-03, 7.000e-03, 1.100e-02, 8.000e-03, 7.000e-03,\n",
       "       6.000e-03, 4.000e-03, 4.000e-03, 7.000e-03, 1.000e-03, 7.000e-03,\n",
       "       5.000e-03, 1.000e-03, 3.000e-03, 4.000e-03, 4.000e-03, 5.000e-03,\n",
       "       4.000e-03, 2.000e-03, 2.000e-03, 3.000e-03, 2.000e-03, 3.000e-03,\n",
       "       5.000e-03, 7.000e-03, 5.000e-03, 4.000e-03, 3.000e-03, 5.000e-03,\n",
       "       4.000e-03, 3.000e-03, 2.000e-03, 6.000e-03, 3.000e-03, 5.000e-03,\n",
       "       2.000e-03, 3.000e-03, 5.000e-03, 5.000e-03, 4.000e-03, 6.000e-03,\n",
       "       6.000e-03, 3.000e-03, 4.000e-03, 3.000e-03, 3.000e-03, 3.000e-03,\n",
       "       1.000e-03, 4.000e-03, 1.000e-03, 2.000e-03, 6.000e-03, 1.000e-03,\n",
       "       2.000e-03, 1.000e-03, 2.000e-03, 1.000e-03, 3.000e-03, 4.000e-03,\n",
       "       5.000e-03, 4.000e-03, 6.000e-03, 1.000e-03, 1.000e-03, 3.000e-03,\n",
       "       2.000e-03, 7.000e-03, 4.000e-03, 1.000e-03, 6.000e-03, 2.000e-03,\n",
       "       0.000e+00, 2.000e-03, 0.000e+00, 3.000e-03, 4.000e-03, 0.000e+00,\n",
       "       1.000e-03, 0.000e+00, 4.000e-03, 3.000e-03, 4.000e-03, 2.000e-03,\n",
       "       1.000e-03, 6.000e-03, 5.000e-03, 1.000e-03, 6.000e-03, 2.000e-03,\n",
       "       3.000e-03, 3.000e-03, 4.000e-03, 1.000e-03, 3.000e-03, 3.000e-03,\n",
       "       3.000e-03, 2.000e-03, 1.000e-03, 3.000e-03, 3.000e-03, 2.000e-03,\n",
       "       2.000e-03, 4.000e-03, 4.000e-03, 2.000e-03, 2.000e-03, 0.000e+00,\n",
       "       1.000e-03, 1.000e-03, 3.000e-03, 2.000e-03, 1.000e-02, 0.000e+00,\n",
       "       2.000e-03, 3.000e-03, 4.000e-03, 1.000e-03, 5.000e-03, 1.000e-03,\n",
       "       0.000e+00, 0.000e+00, 1.000e-03, 1.000e-03, 3.000e-03, 3.000e-03,\n",
       "       1.000e-03, 1.000e-03, 6.000e-03, 1.000e-03, 2.000e-03, 0.000e+00,\n",
       "       3.000e-03, 3.000e-03, 1.000e-03, 1.000e-03, 1.000e-03, 1.000e-03,\n",
       "       1.000e-03, 4.000e-03, 1.000e-03, 1.000e-03, 2.000e-03, 4.000e-03,\n",
       "       0.000e+00, 3.000e-03, 1.000e-03, 0.000e+00, 1.000e-03, 3.000e-03,\n",
       "       2.000e-03, 1.000e-03, 0.000e+00, 0.000e+00, 0.000e+00, 3.000e-03])"
      ]
     },
     "execution_count": 10,
     "metadata": {},
     "output_type": "execute_result"
    }
   ],
   "source": [
    "density"
   ]
  },
  {
   "cell_type": "markdown",
   "id": "42088e5c-76b4-4cd5-a93b-dd830cc00280",
   "metadata": {},
   "source": [
    "Calculamos los centros de los bines del histograma de densidad a partir de los pasos de la simulación "
   ]
  },
  {
   "cell_type": "code",
   "execution_count": 11,
   "id": "bfaef960-749e-4566-b25e-396fc1486c5d",
   "metadata": {},
   "outputs": [
    {
     "data": {
      "text/plain": [
       "array([5.000e-03, 1.500e-02, 2.500e-02, 3.500e-02, 4.500e-02, 5.500e-02,\n",
       "       6.500e-02, 7.500e-02, 8.500e-02, 9.500e-02, 1.050e-01, 1.150e-01,\n",
       "       1.250e-01, 1.350e-01, 1.450e-01, 1.550e-01, 1.650e-01, 1.750e-01,\n",
       "       1.850e-01, 1.950e-01, 2.050e-01, 2.150e-01, 2.250e-01, 2.350e-01,\n",
       "       2.450e-01, 2.550e-01, 2.650e-01, 2.750e-01, 2.850e-01, 2.950e-01,\n",
       "       3.050e-01, 3.150e-01, 3.250e-01, 3.350e-01, 3.450e-01, 3.550e-01,\n",
       "       3.650e-01, 3.750e-01, 3.850e-01, 3.950e-01, 4.050e-01, 4.150e-01,\n",
       "       4.250e-01, 4.350e-01, 4.450e-01, 4.550e-01, 4.650e-01, 4.750e-01,\n",
       "       4.850e-01, 4.950e-01, 5.050e-01, 5.150e-01, 5.250e-01, 5.350e-01,\n",
       "       5.450e-01, 5.550e-01, 5.650e-01, 5.750e-01, 5.850e-01, 5.950e-01,\n",
       "       6.050e-01, 6.150e-01, 6.250e-01, 6.350e-01, 6.450e-01, 6.550e-01,\n",
       "       6.650e-01, 6.750e-01, 6.850e-01, 6.950e-01, 7.050e-01, 7.150e-01,\n",
       "       7.250e-01, 7.350e-01, 7.450e-01, 7.550e-01, 7.650e-01, 7.750e-01,\n",
       "       7.850e-01, 7.950e-01, 8.050e-01, 8.150e-01, 8.250e-01, 8.350e-01,\n",
       "       8.450e-01, 8.550e-01, 8.650e-01, 8.750e-01, 8.850e-01, 8.950e-01,\n",
       "       9.050e-01, 9.150e-01, 9.250e-01, 9.350e-01, 9.450e-01, 9.550e-01,\n",
       "       9.650e-01, 9.750e-01, 9.850e-01, 9.950e-01, 1.005e+00, 1.015e+00,\n",
       "       1.025e+00, 1.035e+00, 1.045e+00, 1.055e+00, 1.065e+00, 1.075e+00,\n",
       "       1.085e+00, 1.095e+00, 1.105e+00, 1.115e+00, 1.125e+00, 1.135e+00,\n",
       "       1.145e+00, 1.155e+00, 1.165e+00, 1.175e+00, 1.185e+00, 1.195e+00,\n",
       "       1.205e+00, 1.215e+00, 1.225e+00, 1.235e+00, 1.245e+00, 1.255e+00,\n",
       "       1.265e+00, 1.275e+00, 1.285e+00, 1.295e+00, 1.305e+00, 1.315e+00,\n",
       "       1.325e+00, 1.335e+00, 1.345e+00, 1.355e+00, 1.365e+00, 1.375e+00,\n",
       "       1.385e+00, 1.395e+00, 1.405e+00, 1.415e+00, 1.425e+00, 1.435e+00,\n",
       "       1.445e+00, 1.455e+00, 1.465e+00, 1.475e+00, 1.485e+00, 1.495e+00,\n",
       "       1.505e+00, 1.515e+00, 1.525e+00, 1.535e+00, 1.545e+00, 1.555e+00,\n",
       "       1.565e+00, 1.575e+00, 1.585e+00, 1.595e+00, 1.605e+00, 1.615e+00,\n",
       "       1.625e+00, 1.635e+00, 1.645e+00, 1.655e+00, 1.665e+00, 1.675e+00,\n",
       "       1.685e+00, 1.695e+00, 1.705e+00, 1.715e+00, 1.725e+00, 1.735e+00,\n",
       "       1.745e+00, 1.755e+00, 1.765e+00, 1.775e+00, 1.785e+00, 1.795e+00,\n",
       "       1.805e+00, 1.815e+00, 1.825e+00, 1.835e+00, 1.845e+00, 1.855e+00,\n",
       "       1.865e+00, 1.875e+00, 1.885e+00, 1.895e+00, 1.905e+00, 1.915e+00,\n",
       "       1.925e+00, 1.935e+00, 1.945e+00, 1.955e+00, 1.965e+00, 1.975e+00,\n",
       "       1.985e+00, 1.995e+00, 2.005e+00, 2.015e+00, 2.025e+00, 2.035e+00,\n",
       "       2.045e+00, 2.055e+00, 2.065e+00, 2.075e+00, 2.085e+00, 2.095e+00,\n",
       "       2.105e+00, 2.115e+00, 2.125e+00, 2.135e+00, 2.145e+00, 2.155e+00,\n",
       "       2.165e+00, 2.175e+00, 2.185e+00, 2.195e+00, 2.205e+00, 2.215e+00,\n",
       "       2.225e+00, 2.235e+00, 2.245e+00, 2.255e+00, 2.265e+00, 2.275e+00,\n",
       "       2.285e+00, 2.295e+00, 2.305e+00, 2.315e+00, 2.325e+00, 2.335e+00,\n",
       "       2.345e+00, 2.355e+00, 2.365e+00, 2.375e+00, 2.385e+00, 2.395e+00,\n",
       "       2.405e+00, 2.415e+00, 2.425e+00, 2.435e+00, 2.445e+00, 2.455e+00,\n",
       "       2.465e+00, 2.475e+00, 2.485e+00, 2.495e+00, 2.505e+00, 2.515e+00,\n",
       "       2.525e+00, 2.535e+00, 2.545e+00, 2.555e+00, 2.565e+00, 2.575e+00,\n",
       "       2.585e+00, 2.595e+00, 2.605e+00, 2.615e+00, 2.625e+00, 2.635e+00,\n",
       "       2.645e+00, 2.655e+00, 2.665e+00, 2.675e+00, 2.685e+00, 2.695e+00,\n",
       "       2.705e+00, 2.715e+00, 2.725e+00, 2.735e+00, 2.745e+00, 2.755e+00,\n",
       "       2.765e+00, 2.775e+00, 2.785e+00, 2.795e+00, 2.805e+00, 2.815e+00,\n",
       "       2.825e+00, 2.835e+00, 2.845e+00, 2.855e+00, 2.865e+00, 2.875e+00,\n",
       "       2.885e+00, 2.895e+00, 2.905e+00, 2.915e+00, 2.925e+00, 2.935e+00,\n",
       "       2.945e+00, 2.955e+00, 2.965e+00, 2.975e+00, 2.985e+00, 2.995e+00,\n",
       "       3.005e+00, 3.015e+00, 3.025e+00, 3.035e+00, 3.045e+00, 3.055e+00,\n",
       "       3.065e+00, 3.075e+00, 3.085e+00, 3.095e+00, 3.105e+00, 3.115e+00,\n",
       "       3.125e+00, 3.135e+00, 3.145e+00, 3.155e+00, 3.165e+00, 3.175e+00,\n",
       "       3.185e+00, 3.195e+00, 3.205e+00, 3.215e+00, 3.225e+00, 3.235e+00,\n",
       "       3.245e+00, 3.255e+00, 3.265e+00, 3.275e+00, 3.285e+00, 3.295e+00,\n",
       "       3.305e+00, 3.315e+00, 3.325e+00, 3.335e+00, 3.345e+00, 3.355e+00,\n",
       "       3.365e+00, 3.375e+00, 3.385e+00, 3.395e+00, 3.405e+00, 3.415e+00,\n",
       "       3.425e+00, 3.435e+00, 3.445e+00, 3.455e+00, 3.465e+00, 3.475e+00,\n",
       "       3.485e+00, 3.495e+00, 3.505e+00, 3.515e+00, 3.525e+00, 3.535e+00,\n",
       "       3.545e+00, 3.555e+00, 3.565e+00, 3.575e+00, 3.585e+00, 3.595e+00,\n",
       "       3.605e+00, 3.615e+00, 3.625e+00, 3.635e+00, 3.645e+00, 3.655e+00,\n",
       "       3.665e+00, 3.675e+00, 3.685e+00, 3.695e+00, 3.705e+00, 3.715e+00,\n",
       "       3.725e+00, 3.735e+00, 3.745e+00, 3.755e+00, 3.765e+00, 3.775e+00,\n",
       "       3.785e+00, 3.795e+00, 3.805e+00, 3.815e+00, 3.825e+00, 3.835e+00,\n",
       "       3.845e+00, 3.855e+00, 3.865e+00, 3.875e+00, 3.885e+00, 3.895e+00,\n",
       "       3.905e+00, 3.915e+00, 3.925e+00, 3.935e+00, 3.945e+00, 3.955e+00,\n",
       "       3.965e+00, 3.975e+00, 3.985e+00, 3.995e+00, 4.005e+00, 4.015e+00,\n",
       "       4.025e+00, 4.035e+00, 4.045e+00, 4.055e+00, 4.065e+00, 4.075e+00,\n",
       "       4.085e+00, 4.095e+00, 4.105e+00, 4.115e+00, 4.125e+00, 4.135e+00,\n",
       "       4.145e+00, 4.155e+00, 4.165e+00, 4.175e+00, 4.185e+00, 4.195e+00,\n",
       "       4.205e+00, 4.215e+00, 4.225e+00, 4.235e+00, 4.245e+00, 4.255e+00,\n",
       "       4.265e+00, 4.275e+00, 4.285e+00, 4.295e+00, 4.305e+00, 4.315e+00,\n",
       "       4.325e+00, 4.335e+00, 4.345e+00, 4.355e+00, 4.365e+00, 4.375e+00,\n",
       "       4.385e+00, 4.395e+00, 4.405e+00, 4.415e+00, 4.425e+00, 4.435e+00,\n",
       "       4.445e+00, 4.455e+00, 4.465e+00, 4.475e+00, 4.485e+00, 4.495e+00,\n",
       "       4.505e+00, 4.515e+00, 4.525e+00, 4.535e+00, 4.545e+00, 4.555e+00,\n",
       "       4.565e+00, 4.575e+00, 4.585e+00, 4.595e+00, 4.605e+00, 4.615e+00,\n",
       "       4.625e+00, 4.635e+00, 4.645e+00, 4.655e+00, 4.665e+00, 4.675e+00,\n",
       "       4.685e+00, 4.695e+00, 4.705e+00, 4.715e+00, 4.725e+00, 4.735e+00,\n",
       "       4.745e+00, 4.755e+00, 4.765e+00, 4.775e+00, 4.785e+00, 4.795e+00,\n",
       "       4.805e+00, 4.815e+00, 4.825e+00, 4.835e+00, 4.845e+00, 4.855e+00,\n",
       "       4.865e+00, 4.875e+00, 4.885e+00, 4.895e+00, 4.905e+00, 4.915e+00,\n",
       "       4.925e+00, 4.935e+00, 4.945e+00, 4.955e+00, 4.965e+00, 4.975e+00,\n",
       "       4.985e+00, 4.995e+00, 5.005e+00, 5.015e+00, 5.025e+00, 5.035e+00,\n",
       "       5.045e+00, 5.055e+00, 5.065e+00, 5.075e+00, 5.085e+00, 5.095e+00,\n",
       "       5.105e+00, 5.115e+00, 5.125e+00, 5.135e+00, 5.145e+00, 5.155e+00,\n",
       "       5.165e+00, 5.175e+00, 5.185e+00, 5.195e+00, 5.205e+00, 5.215e+00,\n",
       "       5.225e+00, 5.235e+00, 5.245e+00, 5.255e+00, 5.265e+00, 5.275e+00,\n",
       "       5.285e+00, 5.295e+00, 5.305e+00, 5.315e+00, 5.325e+00, 5.335e+00,\n",
       "       5.345e+00, 5.355e+00, 5.365e+00, 5.375e+00, 5.385e+00, 5.395e+00,\n",
       "       5.405e+00, 5.415e+00, 5.425e+00, 5.435e+00, 5.445e+00, 5.455e+00,\n",
       "       5.465e+00, 5.475e+00, 5.485e+00, 5.495e+00, 5.505e+00, 5.515e+00,\n",
       "       5.525e+00, 5.535e+00, 5.545e+00, 5.555e+00, 5.565e+00, 5.575e+00,\n",
       "       5.585e+00, 5.595e+00, 5.605e+00, 5.615e+00, 5.625e+00, 5.635e+00,\n",
       "       5.645e+00, 5.655e+00, 5.665e+00, 5.675e+00, 5.685e+00, 5.695e+00,\n",
       "       5.705e+00, 5.715e+00, 5.725e+00, 5.735e+00, 5.745e+00, 5.755e+00,\n",
       "       5.765e+00, 5.775e+00, 5.785e+00, 5.795e+00, 5.805e+00, 5.815e+00,\n",
       "       5.825e+00, 5.835e+00, 5.845e+00, 5.855e+00, 5.865e+00, 5.875e+00,\n",
       "       5.885e+00, 5.895e+00, 5.905e+00, 5.915e+00, 5.925e+00, 5.935e+00,\n",
       "       5.945e+00, 5.955e+00, 5.965e+00, 5.975e+00, 5.985e+00, 5.995e+00,\n",
       "       6.005e+00, 6.015e+00, 6.025e+00, 6.035e+00, 6.045e+00, 6.055e+00,\n",
       "       6.065e+00, 6.075e+00, 6.085e+00, 6.095e+00, 6.105e+00, 6.115e+00,\n",
       "       6.125e+00, 6.135e+00, 6.145e+00, 6.155e+00, 6.165e+00, 6.175e+00,\n",
       "       6.185e+00, 6.195e+00, 6.205e+00, 6.215e+00, 6.225e+00, 6.235e+00,\n",
       "       6.245e+00, 6.255e+00, 6.265e+00, 6.275e+00, 6.285e+00, 6.295e+00,\n",
       "       6.305e+00, 6.315e+00, 6.325e+00, 6.335e+00, 6.345e+00, 6.355e+00,\n",
       "       6.365e+00, 6.375e+00, 6.385e+00, 6.395e+00, 6.405e+00, 6.415e+00,\n",
       "       6.425e+00, 6.435e+00, 6.445e+00, 6.455e+00, 6.465e+00, 6.475e+00,\n",
       "       6.485e+00, 6.495e+00, 6.505e+00, 6.515e+00, 6.525e+00, 6.535e+00,\n",
       "       6.545e+00, 6.555e+00, 6.565e+00, 6.575e+00, 6.585e+00, 6.595e+00,\n",
       "       6.605e+00, 6.615e+00, 6.625e+00, 6.635e+00, 6.645e+00, 6.655e+00,\n",
       "       6.665e+00, 6.675e+00, 6.685e+00, 6.695e+00, 6.705e+00, 6.715e+00])"
      ]
     },
     "execution_count": 11,
     "metadata": {},
     "output_type": "execute_result"
    }
   ],
   "source": [
    "nsteps = density.size\n",
    "time = (np.arange(nsteps) +  0.5) * delta_time\n",
    "time"
   ]
  },
  {
   "cell_type": "markdown",
   "id": "0e98be7d-56db-4971-8c65-ee4b431cd047",
   "metadata": {},
   "source": [
    "PDF exponencial con parámetro de escala igual al tiempo de decaimiento medio usado en la simulación"
   ]
  },
  {
   "cell_type": "code",
   "execution_count": 12,
   "id": "49a8b418-d9b1-4415-b5d3-65de2ff7d86d",
   "metadata": {},
   "outputs": [],
   "source": [
    "from scipy.stats import expon\n",
    "x_pdf = np.linspace(start=0, stop=time.max(), num=100)\n",
    "y_pdf = expon.pdf(x_pdf, scale=tau) "
   ]
  },
  {
   "cell_type": "markdown",
   "id": "36c37c5f-377b-4d45-a62d-6229845f37be",
   "metadata": {},
   "source": [
    "Plot de los datos simulados y la PDF exponencial"
   ]
  },
  {
   "cell_type": "code",
   "execution_count": 13,
   "id": "4ec6f5f3-9822-4fd1-a5da-031d6f7b481a",
   "metadata": {},
   "outputs": [
    {
     "data": {
      "text/plain": [
       "<matplotlib.legend.Legend at 0x7f9c91184f10>"
      ]
     },
     "execution_count": 13,
     "metadata": {},
     "output_type": "execute_result"
    },
    {
     "data": {
      "image/png": "[encoded data removed]",
      "text/plain": [
       "<Figure size 640x480 with 1 Axes>"
      ]
     },
     "metadata": {},
     "output_type": "display_data"
    }
   ],
   "source": [
    "import matplotlib.pyplot as plt\n",
    "fig, ax = plt.subplots()\n",
    "ax.set_xlabel(\"Time\")\n",
    "ax.set_ylabel(\"Probability density\")\n",
    "ax.plot(time, density, ls='None', marker='o', label=\"Monte Carlo\")\n",
    "ax.plot(x_pdf, y_pdf, ls='--', lw=2, label=\"PDF\")\n",
    "ax.set_ylim(bottom=0)\n",
    "ax.legend()"
   ]
  },
  {
   "cell_type": "code",
   "execution_count": null,
   "id": "cd5d26db-534b-4488-82a1-0a37d4351c98",
   "metadata": {},
   "outputs": [],
   "source": []
  }
 ],
 "metadata": {
  "kernelspec": {
   "display_name": "Python 3",
   "language": "python",
   "name": "python3"
  },
  "language_info": {
   "codemirror_mode": {
    "name": "ipython",
    "version": 3
   },
   "file_extension": ".py",
   "mimetype": "text/x-python",
   "name": "python",
   "nbconvert_exporter": "python",
   "pygments_lexer": "ipython3",
   "version": "3.8.8"
  }
 },
 "nbformat": 4,
 "nbformat_minor": 5
}
