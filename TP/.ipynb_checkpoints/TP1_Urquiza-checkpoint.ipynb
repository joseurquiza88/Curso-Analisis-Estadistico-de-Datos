{
 "cells": [
  {
   "cell_type": "markdown",
   "id": "c5e00a7d-fdee-4de2-95ea-4f73574c0f6c",
   "metadata": {},
   "source": [
    "---\n",
    "---\n",
    "## Trabajo Práctico 1 - Probabilidad Discreta\n",
    "---\n",
    "---"
   ]
  },
  {
   "cell_type": "markdown",
   "id": "e129c055",
   "metadata": {},
   "source": [
    "*Alumna: Josefina Urquiza*"
   ]
  },
  {
   "cell_type": "markdown",
   "id": "5a98464b-bebf-40c9-8336-b9e0b7089d4f",
   "metadata": {},
   "source": [
    "Simular dos variables aleatorias $X_1$ y $X_2$ que siguen distribuciones de Poisson con parametros $\\mu_1 = 1$ y $\\mu_2 = 2$ respectivamente. Calcular la variable $Y = X_1 + X_2$. Repetir la simulación 1000 veces. Graficar la distribución de la variable $Y$ y comparar con una distribución de probabilidad adecuada."
   ]
  },
  {
   "cell_type": "code",
   "execution_count": 1,
   "id": "f4415cae",
   "metadata": {},
   "outputs": [
    {
     "name": "stdout",
     "output_type": "stream",
     "text": [
      "Librerias ok\n"
     ]
    }
   ],
   "source": [
    "# Librerias\n",
    "import numpy as np\n",
    "import matplotlib.pyplot as plt\n",
    "import seaborn as sns\n",
    "from scipy.stats import poisson\n",
    "print(\"Librerias ok\")"
   ]
  },
  {
   "cell_type": "code",
   "execution_count": 2,
   "id": "215d14a3-cd8a-4a8a-a37a-d644249e8582",
   "metadata": {},
   "outputs": [],
   "source": [
    "# Valores random - semilla\n",
    "rng = np.random.default_rng(seed=6870)"
   ]
  },
  {
   "cell_type": "code",
   "execution_count": 3,
   "id": "33e513b9",
   "metadata": {},
   "outputs": [
    {
     "name": "stdout",
     "output_type": "stream",
     "text": [
      " ---------- Valores random obtenidos ---------- \n",
      "[ 1  3  1  5  3  3  4  4  3  2  2  6  3  1  1  3  3  6  4  4  4  3  2  8\n",
      "  6  1  1  2  2  2  3  3  3  2  2  3  6  0  1  5  2  0  1  2  3  3  0  2\n",
      "  2  4  4  6  4  1  2  3  5  2  3  1  4  3  4  2  3  2  2  1  6  3  1  2\n",
      "  4  3  2  2  3  1  3  1  2  2  5  1  4  2  7  1  6  1  5  3  1  3  3  3\n",
      "  2  4  2  4  0  6  6  3  1  2  4  0  2  2  4  2  5  3  3  6  0  4  2  2\n",
      "  7  5  3  5  2  3  3  5  5  5  1  6  3  1  4  2  4  3  4  3  0  3  2  0\n",
      "  1  3  5  4  1  4  4  2  0  2  2  7  6  0  4  0  0  7  4  2  2  3  6  4\n",
      "  6  6  3  2  4  1  6  2  1  3  5  2  2  3  2  0  3  2  7  4  5  4  2  4\n",
      "  4  1  0  1  3  1  3  2  1  4  5  3  2  3  7  3  2  2  3  5  1  4  1  2\n",
      "  1  3  4  3  5  1  3  3  5  7  2  5  5  4  3  3  6  3  0  1  3  4  5  3\n",
      "  7  2  4  4  5  0  3  2  2  5  4  3  0  4  0  3  2  1  2  1  1  2  4  1\n",
      "  4  1  5  2  1  1  2  3  2  2  2  3  4  1  3  0  2  3  3  2  3  3  3  2\n",
      "  2  3  1  3  4  4  3  4  1  3  3  1  4  2  3  1  6  1  8  2  8  3  1  5\n",
      "  3  1  2  3  1  5  3  2  3  4  7  5  4  1  4  1  0  2  3  3  4  5  4  3\n",
      "  7  1  2  5  3  1  2  0  4  6  3  4  5  4  1  1  1  2  1  4  3  4  4  4\n",
      "  1  5  4  2  3  5  6  2  4  2  3  1  3  2  3  4  4  6  1  5  2  6  2  5\n",
      "  4  5  5  2  1  2  1  1  2  3  3  9  4  4  1  1  5  6  3  3  6  4  4  2\n",
      "  2  3  1  3  7  1  0  1  1  4  1  0  2  0  2  2  1  3  1  4  2  0  4  3\n",
      "  2  4  1  3  5  2  2  5  3  3  3  4  3  2  3  6  4  1  3  2  6  3  3  1\n",
      "  2  3  2  2  3  1  5  3  2  3  4  3  0  2  2  2  3  2  0  2  0  5  1  3\n",
      "  4  3  0  6  1  4  3  3  3  4  4  2  3  2  4  3  2  4  1  4  2  2  4  6\n",
      "  1  2  3  1  4  3  1  2  3  1  2  5  2  3  1  2  6  2  2  4  1  6  0  7\n",
      "  4  2  4  3  4  2  4  4  7  1  4  2  5  2  3  3  2  4  4  2  2  5  2  3\n",
      "  1  3  4  3  4  3  3  2  6  0  4  2  3  4  1  4  1  3  1  0  3  2  4  2\n",
      "  1  2  2  5  2  3  3  4  4  3  6  3  3  2  5  2  3  1  1  6  2  4  3  3\n",
      "  2  4  4  4  3  2  3  3  4  3  4  3  0  4  2  1  2  1  2  6  6  1  3  2\n",
      "  4  2  5  2  3  5  0  4  2  0  3  3  4  6  3  5  3  5  0  8  0  1  5  7\n",
      "  7  4  3  1  3  4  3  5  3  4  2  3  2  5  4  2  3  3  4  4  5  1  2  4\n",
      "  0  3  4  4  2  4  5  5  1  2  2  3  2  1  2  3  4  2  5  3  1  3  2  6\n",
      "  1  1  4  4  6  1  1  2  3  0  6  4  1  3  3  3  3  5  3  2  1  6  4  6\n",
      "  1  3  2  1  3  6  2  3  5  5  4  3  4  2  3  1  4  3  3  3  1  6  3  2\n",
      "  5  3  2  4  3  2  4 12  4  1  6  3  5  5  5  3  6  3  4  5  2  4  4  1\n",
      "  3  3  1  0  0  3  6  4  3  2  2  3  1  1  2  3  2  4  2  3  6  2  2  1\n",
      "  2  3  2  2  3  1  2  2  4  1  2  4  1  2  3  6  1  2  4  3  6  3  1  0\n",
      "  2  7  4  6  4  1  1  6  4  1  6  3  3  4  2  0  3  3  0  5  4  3  3  2\n",
      "  3  3  4  2  3  5  3  4  3  4  3  1  5  3  2  1  1  3  3  2  0  2  3  3\n",
      "  5  2  0  4  4  2  5  1  0  3  4  4  4  5  2  1  4  3  5  5  2  0  3  1\n",
      "  1  3  2  2  3  6  3  2  3  3  3  4  5  4  3  1  3  5  3  4  3  0  3  2\n",
      "  1  2  5  8  4  6  1  3  5  6  6  0  2  1  3  2  3  2  4  0  3  7  5  1\n",
      "  2  2  2  2  4  5  2  5  4  1  3  4  3  6  1  1  4  3  1  3  2  2  1  5\n",
      "  5  3  4  7  6  3  2  4  5  1  3  4  2  0  4  2  7  1  4  4  2  5  4  1\n",
      "  3  3  0  1  1  5  4  4  1  4  7  3  3  3  1  2]\n"
     ]
    }
   ],
   "source": [
    "# Simular dos variables aleatoria que siguen distribuciones de Poisson con parametros media  𝜇1=1 y  𝜇2=2.\n",
    "\n",
    "# Parámetros de las distribuciones Poisson\n",
    "# Media de dos variables\n",
    "mu_1 = 1\n",
    "mu_2 = 2\n",
    "\n",
    "# Numero de simulaciones\n",
    "n = 1000\n",
    "# Generar las muestras para X1 y X2\n",
    "X_1 = poisson.rvs(mu=mu_1, size=n, random_state=rng)\n",
    "X_2 = poisson.rvs(mu=mu_2, size=n, random_state=rng)\n",
    "\n",
    "# Calcular la variable Y = X1 + X2.\n",
    "Y = X_1 + X_2\n",
    "print(\" ---------- Valores random obtenidos ---------- \")\n",
    "print(Y)"
   ]
  },
  {
   "cell_type": "code",
   "execution_count": 4,
   "id": "2c9a2fcd",
   "metadata": {},
   "outputs": [
    {
     "name": "stdout",
     "output_type": "stream",
     "text": [
      "range(0, 13)\n"
     ]
    }
   ],
   "source": [
    "#Distribucion teorica de Poisson - pmf conocida\n",
    "# Probabilidad de eventos raros \n",
    "#En la distribucion de poisson la media de la nueva variable corresponde a la suma de la  media de las dos variables.\n",
    "#Lo mismo sucede para la varianza.\n",
    "mu_Y = mu_1 + mu_2\n",
    "x_values = range(min(Y), max(Y) + 1)\n",
    "print(x_values) #Muestra el ran\n",
    "poisson_pmf = poisson.pmf(x_values, mu_Y)\n"
   ]
  },
  {
   "cell_type": "code",
   "execution_count": 5,
   "id": "1f7eec9d",
   "metadata": {},
   "outputs": [
    {
     "data": {
      "image/png": "[encoded data removed]",
      "text/plain": [
       "<Figure size 720x576 with 1 Axes>"
      ]
     },
     "metadata": {
      "needs_background": "light"
     },
     "output_type": "display_data"
    }
   ],
   "source": [
    "###  ----------  Plot de la distribucion teorica  junto con la simulacion    ----------\n",
    "# Histograma\n",
    "fig, ax = plt.subplots(figsize=(10, 8)) \n",
    "plt.hist(Y, bins=np.arange(min(Y)-0.5, max(Y)-0.5 + 1), density=True, color='#99d8c9', edgecolor='black', label='Simulaciones')\n",
    "plt.plot(x_values, poisson_pmf, linestyle='-',marker=\"o\",linewidth=3, label='Poisson',markersize=10)\n",
    "# Configuraciones del gráfico\n",
    "plt.xlabel(\"Ocurrencias\",fontsize=15)\n",
    "plt.ylabel(\"Frecuencia\", fontsize=15)\n",
    "plt.legend(loc = \"upper right\", fontsize=15)\n",
    "plt.xticks(fontsize=14)\n",
    "plt.yticks(fontsize=14)\n",
    "plt.show()"
   ]
  },
  {
   "cell_type": "code",
   "execution_count": null,
   "id": "d30cf386",
   "metadata": {},
   "outputs": [],
   "source": []
  }
 ],
 "metadata": {
  "kernelspec": {
   "display_name": "Python 3",
   "language": "python",
   "name": "python3"
  },
  "language_info": {
   "codemirror_mode": {
    "name": "ipython",
    "version": 3
   },
   "file_extension": ".py",
   "mimetype": "text/x-python",
   "name": "python",
   "nbconvert_exporter": "python",
   "pygments_lexer": "ipython3",
   "version": "3.8.8"
  }
 },
 "nbformat": 4,
 "nbformat_minor": 5
}
