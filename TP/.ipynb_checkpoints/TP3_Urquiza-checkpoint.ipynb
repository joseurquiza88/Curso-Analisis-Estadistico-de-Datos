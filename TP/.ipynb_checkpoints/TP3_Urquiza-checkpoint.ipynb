{
 "cells": [
  {
   "cell_type": "markdown",
   "id": "d3eae515-419c-46d9-885b-3c3b7e469490",
   "metadata": {},
   "source": [
    "---\n",
    "---\n",
    "## Trabajo Práctico 3 - Probabilidad multidimensional\n",
    "### Josefina Urquiza\n",
    "---\n",
    "---"
   ]
  },
  {
   "cell_type": "markdown",
   "id": "ef617cfa-6930-43cc-ad66-450b86b445d0",
   "metadata": {},
   "source": [
    "7. **(Para entregar)** Simular una variable aleatoria $X = (X_1, X_2)$ que sigue una distribución binormal con parámetros $\\mu_1 = 2.3$,  $\\mu_2 = 1.5$, $\\sigma_1 = 1.2$, $\\sigma_2 = 0.5$ y correlación $\\rho = 0.7$. Repetir la simulación 1000 veces. Calcular la fracción de eventos caen en la elipse $1\\sigma$ y comparar con la probabilidad contenida dentro de dicha región. Graficar 10 de los datos simulados junto a la elipse 1σ.\n",
    "\n",
    "Nota: un punto $(x_1, x_2)$ pertenece a la elipse $r\\sigma$ si la forma cuadrática asociada $q(x_1, x_2) ≤ r$."
   ]
  },
  {
   "cell_type": "code",
   "execution_count": 2,
   "id": "6b43b7d0",
   "metadata": {},
   "outputs": [
    {
     "name": "stdout",
     "output_type": "stream",
     "text": [
      "Librerias ok\n"
     ]
    }
   ],
   "source": [
    "# Librerias\n",
    "import numpy as np\n",
    "import pandas as pd\n",
    "import matplotlib.pyplot as plt\n",
    "from scipy.stats import multivariate_normal\n",
    "import danatools\n",
    "from numpy import linalg\n",
    "print(\"Librerias ok\")"
   ]
  },
  {
   "cell_type": "markdown",
   "id": "ecbfe7e6",
   "metadata": {},
   "source": [
    "### Parámetros"
   ]
  },
  {
   "cell_type": "code",
   "execution_count": 3,
   "id": "a698d5e6",
   "metadata": {},
   "outputs": [
    {
     "data": {
      "text/plain": [
       "array([[1.44, 0.42],\n",
       "       [0.42, 0.25]])"
      ]
     },
     "execution_count": 3,
     "metadata": {},
     "output_type": "execute_result"
    }
   ],
   "source": [
    "# Simulamos 2 variables\n",
    "mu = [2.3, 1.5]  # vector de media\n",
    "sigma_x1 = 1.2    # desviación estándar de X1\n",
    "sigma_x2 = 0.5    # desviación estándar de X2\n",
    "rho = 0.7        # correlación\n",
    "\n",
    "# Matriz de covarianza 2 formas de hacerlo:\n",
    "# -- 01. lista \n",
    "# cov_matrix = [[sigma_x1**2, rho * sigma_x1 * sigma_x2], \n",
    "#               [rho * sigma_x1 * sigma_x2, sigma_x2**2]]\n",
    "\n",
    "# -- 02. numpy.ndarray con la libreria danatools\n",
    "cov_matrix = danatools.covariance_matrix_2d(sigma_x1, sigma_x2, rho)\n",
    "\n",
    "# Mostramos la matriz de covarianza\n",
    "cov_matrix\n"
   ]
  },
  {
   "cell_type": "markdown",
   "id": "ff1b9116",
   "metadata": {},
   "source": [
    "La diagonal con los valores 1.44 - 0.25 corresponde a las varianzas de las variables individuales. Mientras que los elementos fuera de la diagonal (0.42) representan la covarianza entre las variables $X_1$ y  $X_2$."
   ]
  },
  {
   "cell_type": "markdown",
   "id": "a15f37e5",
   "metadata": {},
   "source": [
    "### Simulación de variables"
   ]
  },
  {
   "cell_type": "code",
   "execution_count": 6,
   "id": "8db05e3c",
   "metadata": {},
   "outputs": [
    {
     "data": {
      "text/html": [
       "<div>\n",
       "<style scoped>\n",
       "    .dataframe tbody tr th:only-of-type {\n",
       "        vertical-align: middle;\n",
       "    }\n",
       "\n",
       "    .dataframe tbody tr th {\n",
       "        vertical-align: top;\n",
       "    }\n",
       "\n",
       "    .dataframe thead th {\n",
       "        text-align: right;\n",
       "    }\n",
       "</style>\n",
       "<table border=\"1\" class=\"dataframe\">\n",
       "  <thead>\n",
       "    <tr style=\"text-align: right;\">\n",
       "      <th></th>\n",
       "      <th>X1</th>\n",
       "      <th>X2</th>\n",
       "    </tr>\n",
       "  </thead>\n",
       "  <tbody>\n",
       "    <tr>\n",
       "      <th>0</th>\n",
       "      <td>3.178001</td>\n",
       "      <td>2.065608</td>\n",
       "    </tr>\n",
       "    <tr>\n",
       "      <th>1</th>\n",
       "      <td>3.172994</td>\n",
       "      <td>1.485824</td>\n",
       "    </tr>\n",
       "    <tr>\n",
       "      <th>2</th>\n",
       "      <td>1.322145</td>\n",
       "      <td>1.665009</td>\n",
       "    </tr>\n",
       "    <tr>\n",
       "      <th>3</th>\n",
       "      <td>2.601276</td>\n",
       "      <td>2.406701</td>\n",
       "    </tr>\n",
       "    <tr>\n",
       "      <th>4</th>\n",
       "      <td>4.013880</td>\n",
       "      <td>1.281618</td>\n",
       "    </tr>\n",
       "    <tr>\n",
       "      <th>5</th>\n",
       "      <td>0.362198</td>\n",
       "      <td>0.747164</td>\n",
       "    </tr>\n",
       "    <tr>\n",
       "      <th>6</th>\n",
       "      <td>2.356514</td>\n",
       "      <td>1.163778</td>\n",
       "    </tr>\n",
       "    <tr>\n",
       "      <th>7</th>\n",
       "      <td>0.546936</td>\n",
       "      <td>0.560943</td>\n",
       "    </tr>\n",
       "    <tr>\n",
       "      <th>8</th>\n",
       "      <td>2.737335</td>\n",
       "      <td>1.125839</td>\n",
       "    </tr>\n",
       "    <tr>\n",
       "      <th>9</th>\n",
       "      <td>3.874022</td>\n",
       "      <td>1.736421</td>\n",
       "    </tr>\n",
       "  </tbody>\n",
       "</table>\n",
       "</div>"
      ],
      "text/plain": [
       "         X1        X2\n",
       "0  3.178001  2.065608\n",
       "1  3.172994  1.485824\n",
       "2  1.322145  1.665009\n",
       "3  2.601276  2.406701\n",
       "4  4.013880  1.281618\n",
       "5  0.362198  0.747164\n",
       "6  2.356514  1.163778\n",
       "7  0.546936  0.560943\n",
       "8  2.737335  1.125839\n",
       "9  3.874022  1.736421"
      ]
     },
     "execution_count": 6,
     "metadata": {},
     "output_type": "execute_result"
    }
   ],
   "source": [
    "# Generador de numeros aleatorios\n",
    "rng = np.random.default_rng(seed=6870)\n",
    "\n",
    "# Repetir la simulación 1000 veces\n",
    "n_sims = 1000 \n",
    "\n",
    "#Generamos la simulación\n",
    "data = multivariate_normal.rvs(mu, cov_matrix, size=n_sims, random_state=rng)\n",
    "\n",
    "# Pasamos los datos a un dataframe de pandas para manipularlos con más comodidad. \n",
    "df = pd.DataFrame({\"X1\": data[:,0], \"X2\": data[:,1]})\n",
    "\n",
    "#Mostramos los primeros datos generado\n",
    "df.head(10)\n"
   ]
  },
  {
   "cell_type": "markdown",
   "id": "57ce3751",
   "metadata": {},
   "source": [
    "Cada una de estas filas del dataframe representa una simulacion correspondiente a las dos variables segun los parametros $\\mu_1$,  $\\sigma$ y correlación $\\rho$."
   ]
  },
  {
   "cell_type": "markdown",
   "id": "e48459eb",
   "metadata": {},
   "source": [
    "### Gráfico de dispersión con todos los datos simulados con distribución normal bivariada."
   ]
  },
  {
   "cell_type": "code",
   "execution_count": 7,
   "id": "94a55131",
   "metadata": {},
   "outputs": [
    {
     "data": {
      "image/png": "[encoded data removed]",
      "text/plain": [
       "<Figure size 576x432 with 1 Axes>"
      ]
     },
     "metadata": {
      "needs_background": "light"
     },
     "output_type": "display_data"
    }
   ],
   "source": [
    "fig, ax = plt.subplots(figsize=(8, 6)) \n",
    "ax.set_xlabel(\"X1\")\n",
    "ax.set_ylabel(\"X2\")\n",
    "ax.plot(df[\"X1\"], df[\"X2\"], ls='None', marker='o',color='#99d8c9', ms=5, alpha=0.8,label=\"Valores simulados\")\n",
    "# ax.plot(mu[0], mu[1], marker='o', ls='', label='$\\mu$')\n",
    "x_2sigma, y_2sigma = danatools.get_ellipse(mu, cov_matrix, nsigma=1)\n",
    "ax.plot(x_2sigma, y_2sigma, color=\"#cb181d\",linewidth=2,label=\"Elipse 1σ\",ls=\"--\")\n",
    "plt.xticks(fontsize=12)\n",
    "plt.yticks(fontsize=12)\n",
    "ax.legend()\n",
    "plt.show()\n",
    "\n"
   ]
  },
  {
   "cell_type": "markdown",
   "id": "b24323d7",
   "metadata": {},
   "source": [
    "### Calcular la fracción de eventos caen en la elipse  1𝜎\n",
    "  "
   ]
  },
  {
   "cell_type": "code",
   "execution_count": 8,
   "id": "fcce5714",
   "metadata": {},
   "outputs": [
    {
     "name": "stdout",
     "output_type": "stream",
     "text": [
      "1000\n"
     ]
    }
   ],
   "source": [
    "# Matriz hessiana \n",
    "hessian_matrix = linalg.inv(cov_matrix)\n",
    "\n",
    "#Forma cuadrática\n",
    "v = data - mu #vector menos su media\n",
    "# Sumatoria de las columnas\n",
    "Q = np.sum((v @ hessian_matrix)* v, axis = 1)\n",
    "\n",
    "# Comprobamos que tenga el mismo numero de datos de las simulaciones\n",
    "print(len(Q))\n",
    "\n",
    "# Contar los puntos que caen dentro de la elipse 1σ (q(x1, x2) <= 1)\n",
    "puntos_elipse = np.sum(Q <= 1)\n"
   ]
  },
  {
   "cell_type": "code",
   "execution_count": 9,
   "id": "666af0ae",
   "metadata": {},
   "outputs": [
    {
     "name": "stdout",
     "output_type": "stream",
     "text": [
      "Puntos dentro de la elipse de 1σ: 414.00\n",
      "Fracción dentro de la elipse de 1σ: 0.41400\n"
     ]
    }
   ],
   "source": [
    "#Resultados\n",
    "print(f\"Puntos dentro de la elipse de 1σ: {puntos_elipse:.2f}\")\n",
    "print(f\"Fracción dentro de la elipse de 1σ: {puntos_elipse/n_sims:.5f}\")"
   ]
  },
  {
   "cell_type": "markdown",
   "id": "009cbda9",
   "metadata": {},
   "source": [
    "#### Algunos comentarios:\n",
    "En primer lugar calculamos la matriz Hessiana que hace referencia la inversa de la matriz de covarianza. Invertir la matriz de covarianza es un paso necesario para calcular la forma cuadrática asociada a la elipse.\n",
    "\n",
    "Luego se calcula una matriz (v) que muestra la diferencia entre los datos y  el vector de las medias calculado anterioremente.\n",
    "\n",
    "Posteriormente, se mutiplica esta matriz de diferencias (v) con la matriz Hessiana para aplicar la transformacion necesaria para la forma cuadrática.\n",
    "\n",
    "Luego,  se sumaron los valores a lo largo de las columnas, para finalmente contar los puntos que caen dentro de la elipse de 1σ en la variable puntos_elipse.\n",
    "\n",
    "En resumen, se calcula la forma cuadrática asociada a los puntos simulados respecto a la media y la matriz de covarianza de la distribución, para finalmente contar cuántos de esos puntos caen dentro de la elipse\n",
    "\n",
    "#### Algunos comentarios de la clase:\n",
    "La forma cuadrática nos define la elipse n sigmas.\n",
    "Si la forma cuadratica es menor a 1 estamos adentro de la elipse de 1sigma y tenemos una cierta probabilidad de que los puntos caigan adentro del elipse.\n"
   ]
  },
  {
   "cell_type": "markdown",
   "id": "29479b20",
   "metadata": {},
   "source": [
    "### Comparar con la probabilidad contenida dentro de dicha región."
   ]
  },
  {
   "cell_type": "code",
   "execution_count": 10,
   "id": "2b4fc764",
   "metadata": {},
   "outputs": [
    {
     "name": "stdout",
     "output_type": "stream",
     "text": [
      "Fracción de puntos dentro de la elipse 1σ segun PDF teorica: 0.41400\n"
     ]
    }
   ],
   "source": [
    "# Ahora la comparamos con la PDF\n",
    "\n",
    "# Calcular la densidad de probabilidad para cada punto\n",
    "pdf = multivariate_normal.pdf(data, mean=mu, cov=cov_matrix)\n",
    "\n",
    "# Comparar con la probabilidad teórica de estar dentro de la elipse\n",
    "densidad_pdf = multivariate_normal.pdf(mu, mean=mu, cov=cov_matrix) * np.exp(-0.5)\n",
    "\n",
    "# Contar los puntos que caen dentro de la elipse 1σ según la densidad\n",
    "puntos_elipse_teorica = np.sum(pdf >= densidad_pdf)\n",
    "fraccion_elipse_teorica = puntos_elipse_teorica / n_sims\n",
    "print(f\"Fracción de puntos dentro de la elipse 1σ segun PDF teorica: {fraccion_elipse_teorica:.5f}\")\n"
   ]
  },
  {
   "cell_type": "markdown",
   "id": "e7bfcd0c",
   "metadata": {},
   "source": [
    "Podemos ver que en ambos casis deben dar resultados consistentes, ya que ambos se basan en la misma definición de una elipse  de 1𝜎, pero lo hacen desde diferentes enfoques: la primera de forma cuadrática y la segunda forma (teorica) con la densidad de probabilidad mostrada con la pdf."
   ]
  },
  {
   "cell_type": "markdown",
   "id": "1500b32a",
   "metadata": {},
   "source": [
    "### Graficar"
   ]
  },
  {
   "cell_type": "code",
   "execution_count": 11,
   "id": "34e09bfc",
   "metadata": {},
   "outputs": [
    {
     "data": {
      "image/png": "[encoded data removed]",
      "text/plain": [
       "<Figure size 576x432 with 1 Axes>"
      ]
     },
     "metadata": {
      "needs_background": "light"
     },
     "output_type": "display_data"
    }
   ],
   "source": [
    "#En este caso solo mostramos 10 valores\n",
    "fig, ax = plt.subplots(figsize=(8, 6)) \n",
    "ax.set_xlabel(\"X1\")\n",
    "ax.set_ylabel(\"X2\")\n",
    "ax.plot(df[\"X1\"][:10,], df[\"X2\"][:10,], ls='None', marker='o',color='#2c7fb8',  ms=10, label=\"Valores simulados\")\n",
    "# ax.plot(mu[0], mu[1], marker='o', ls='', label='$\\mu$')\n",
    "x_2sigma, y_2sigma = danatools.get_ellipse(mu, cov_matrix, nsigma=1)\n",
    "ax.plot(x_2sigma, y_2sigma, color=\"#cb181d\",linewidth=2,label=\"Elipse 1σ\",ls=\"--\")\n",
    "plt.xticks(fontsize=12)\n",
    "plt.yticks(fontsize=12)\n",
    "ax.legend()\n",
    "plt.show()"
   ]
  },
  {
   "cell_type": "markdown",
   "id": "b856ed41",
   "metadata": {},
   "source": [
    "## Conclusiones"
   ]
  },
  {
   "cell_type": "markdown",
   "id": "38ee535b",
   "metadata": {},
   "source": [
    "- Los resultados de los valores simulados vs la probabilidad teorica deben dar como resultado valores cercanos, lo que valida que la simulación refleja correctamente las propiedades de la distribución normal bivariada. Esto se debe a que la fracción de puntos dentro de la elipse de 1𝜎 en los datos simulados es muy cercana a la probabilidad teórica calculada a partir de la PDF de la distribución.\n"
   ]
  }
 ],
 "metadata": {
  "kernelspec": {
   "display_name": "Python 3",
   "language": "python",
   "name": "python3"
  },
  "language_info": {
   "codemirror_mode": {
    "name": "ipython",
    "version": 3
   },
   "file_extension": ".py",
   "mimetype": "text/x-python",
   "name": "python",
   "nbconvert_exporter": "python",
   "pygments_lexer": "ipython3",
   "version": "3.8.8"
  }
 },
 "nbformat": 4,
 "nbformat_minor": 5
}
