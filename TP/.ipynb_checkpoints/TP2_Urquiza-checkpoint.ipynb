{
 "cells": [
  {
   "cell_type": "markdown",
   "id": "338d55a5-8050-4860-9690-fae0b1200e89",
   "metadata": {},
   "source": [
    "---\n",
    "---\n",
    "## Trabajo Práctico 2 - Probabilidad Continua\n",
    "---\n",
    "---"
   ]
  },
  {
   "cell_type": "markdown",
   "id": "3f8d888a-55f3-4556-ad99-80cac590bff0",
   "metadata": {},
   "source": [
    "Considerar 20 variables aleatorias que siguen una distribución normal estándar $(X_1, . . . , X_{20})$ y hacer el cambio de variables $Y_i = X^2_i$. Identificar que función de densidad de probabilidad siguen las nuevas variables $Y_i$. Construir una nueva variable aleatoria $Z=\\sum^{20}_{i=1} Y_i$. A continuación simular las 20 variables $X_i$ y calcular el valor $Z$ correspondiente. Repetir este proceso 10.000 veces y hacer un histograma de frecuencias de $Z$. Comparar el histograma con una distribucion chi-cuadrado y otra normal con parametros apropiados."
   ]
  },
  {
   "cell_type": "code",
   "execution_count": null,
   "id": "c28a59c0-2962-4b17-a938-9de591017a03",
   "metadata": {},
   "outputs": [],
   "source": []
  }
 ],
 "metadata": {
  "kernelspec": {
   "display_name": "Python 3",
   "language": "python",
   "name": "python3"
  },
  "language_info": {
   "codemirror_mode": {
    "name": "ipython",
    "version": 3
   },
   "file_extension": ".py",
   "mimetype": "text/x-python",
   "name": "python",
   "nbconvert_exporter": "python",
   "pygments_lexer": "ipython3",
   "version": "3.8.8"
  }
 },
 "nbformat": 4,
 "nbformat_minor": 5
}
